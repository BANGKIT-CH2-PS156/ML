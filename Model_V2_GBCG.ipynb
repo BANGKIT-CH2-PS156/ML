{
  "nbformat": 4,
  "nbformat_minor": 0,
  "metadata": {
    "colab": {
      "provenance": [],
      "gpuType": "T4"
    },
    "kernelspec": {
      "name": "python3",
      "display_name": "Python 3"
    },
    "language_info": {
      "name": "python"
    },
    "accelerator": "GPU"
  },
  "cells": [
    {
      "cell_type": "code",
      "execution_count": null,
      "metadata": {
        "id": "VWatYbRgKfcN",
        "colab": {
          "base_uri": "https://localhost:8080/"
        },
        "outputId": "62abe6c7-c21d-4cd2-aab5-55c27ec3df07"
      },
      "outputs": [
        {
          "output_type": "stream",
          "name": "stdout",
          "text": [
            "Requirement already satisfied: tensorflow in /usr/local/lib/python3.10/dist-packages (2.15.0)\n",
            "Requirement already satisfied: opencv-python in /usr/local/lib/python3.10/dist-packages (4.8.0.76)\n",
            "Requirement already satisfied: matplotlib in /usr/local/lib/python3.10/dist-packages (3.7.1)\n",
            "Requirement already satisfied: gdown in /usr/local/lib/python3.10/dist-packages (4.6.6)\n",
            "Requirement already satisfied: absl-py>=1.0.0 in /usr/local/lib/python3.10/dist-packages (from tensorflow) (1.4.0)\n",
            "Requirement already satisfied: astunparse>=1.6.0 in /usr/local/lib/python3.10/dist-packages (from tensorflow) (1.6.3)\n",
            "Requirement already satisfied: flatbuffers>=23.5.26 in /usr/local/lib/python3.10/dist-packages (from tensorflow) (23.5.26)\n",
            "Requirement already satisfied: gast!=0.5.0,!=0.5.1,!=0.5.2,>=0.2.1 in /usr/local/lib/python3.10/dist-packages (from tensorflow) (0.5.4)\n",
            "Requirement already satisfied: google-pasta>=0.1.1 in /usr/local/lib/python3.10/dist-packages (from tensorflow) (0.2.0)\n",
            "Requirement already satisfied: h5py>=2.9.0 in /usr/local/lib/python3.10/dist-packages (from tensorflow) (3.9.0)\n",
            "Requirement already satisfied: libclang>=13.0.0 in /usr/local/lib/python3.10/dist-packages (from tensorflow) (16.0.6)\n",
            "Requirement already satisfied: ml-dtypes~=0.2.0 in /usr/local/lib/python3.10/dist-packages (from tensorflow) (0.2.0)\n",
            "Requirement already satisfied: numpy<2.0.0,>=1.23.5 in /usr/local/lib/python3.10/dist-packages (from tensorflow) (1.23.5)\n",
            "Requirement already satisfied: opt-einsum>=2.3.2 in /usr/local/lib/python3.10/dist-packages (from tensorflow) (3.3.0)\n",
            "Requirement already satisfied: packaging in /usr/local/lib/python3.10/dist-packages (from tensorflow) (23.2)\n",
            "Requirement already satisfied: protobuf!=4.21.0,!=4.21.1,!=4.21.2,!=4.21.3,!=4.21.4,!=4.21.5,<5.0.0dev,>=3.20.3 in /usr/local/lib/python3.10/dist-packages (from tensorflow) (3.20.3)\n",
            "Requirement already satisfied: setuptools in /usr/local/lib/python3.10/dist-packages (from tensorflow) (67.7.2)\n",
            "Requirement already satisfied: six>=1.12.0 in /usr/local/lib/python3.10/dist-packages (from tensorflow) (1.16.0)\n",
            "Requirement already satisfied: termcolor>=1.1.0 in /usr/local/lib/python3.10/dist-packages (from tensorflow) (2.4.0)\n",
            "Requirement already satisfied: typing-extensions>=3.6.6 in /usr/local/lib/python3.10/dist-packages (from tensorflow) (4.5.0)\n",
            "Requirement already satisfied: wrapt<1.15,>=1.11.0 in /usr/local/lib/python3.10/dist-packages (from tensorflow) (1.14.1)\n",
            "Requirement already satisfied: tensorflow-io-gcs-filesystem>=0.23.1 in /usr/local/lib/python3.10/dist-packages (from tensorflow) (0.34.0)\n",
            "Requirement already satisfied: grpcio<2.0,>=1.24.3 in /usr/local/lib/python3.10/dist-packages (from tensorflow) (1.60.0)\n",
            "Requirement already satisfied: tensorboard<2.16,>=2.15 in /usr/local/lib/python3.10/dist-packages (from tensorflow) (2.15.1)\n",
            "Requirement already satisfied: tensorflow-estimator<2.16,>=2.15.0 in /usr/local/lib/python3.10/dist-packages (from tensorflow) (2.15.0)\n",
            "Requirement already satisfied: keras<2.16,>=2.15.0 in /usr/local/lib/python3.10/dist-packages (from tensorflow) (2.15.0)\n",
            "Requirement already satisfied: contourpy>=1.0.1 in /usr/local/lib/python3.10/dist-packages (from matplotlib) (1.2.0)\n",
            "Requirement already satisfied: cycler>=0.10 in /usr/local/lib/python3.10/dist-packages (from matplotlib) (0.12.1)\n",
            "Requirement already satisfied: fonttools>=4.22.0 in /usr/local/lib/python3.10/dist-packages (from matplotlib) (4.46.0)\n",
            "Requirement already satisfied: kiwisolver>=1.0.1 in /usr/local/lib/python3.10/dist-packages (from matplotlib) (1.4.5)\n",
            "Requirement already satisfied: pillow>=6.2.0 in /usr/local/lib/python3.10/dist-packages (from matplotlib) (9.4.0)\n",
            "Requirement already satisfied: pyparsing>=2.3.1 in /usr/local/lib/python3.10/dist-packages (from matplotlib) (3.1.1)\n",
            "Requirement already satisfied: python-dateutil>=2.7 in /usr/local/lib/python3.10/dist-packages (from matplotlib) (2.8.2)\n",
            "Requirement already satisfied: filelock in /usr/local/lib/python3.10/dist-packages (from gdown) (3.13.1)\n",
            "Requirement already satisfied: requests[socks] in /usr/local/lib/python3.10/dist-packages (from gdown) (2.31.0)\n",
            "Requirement already satisfied: tqdm in /usr/local/lib/python3.10/dist-packages (from gdown) (4.66.1)\n",
            "Requirement already satisfied: beautifulsoup4 in /usr/local/lib/python3.10/dist-packages (from gdown) (4.11.2)\n",
            "Requirement already satisfied: wheel<1.0,>=0.23.0 in /usr/local/lib/python3.10/dist-packages (from astunparse>=1.6.0->tensorflow) (0.42.0)\n",
            "Requirement already satisfied: google-auth<3,>=1.6.3 in /usr/local/lib/python3.10/dist-packages (from tensorboard<2.16,>=2.15->tensorflow) (2.17.3)\n",
            "Requirement already satisfied: google-auth-oauthlib<2,>=0.5 in /usr/local/lib/python3.10/dist-packages (from tensorboard<2.16,>=2.15->tensorflow) (1.2.0)\n",
            "Requirement already satisfied: markdown>=2.6.8 in /usr/local/lib/python3.10/dist-packages (from tensorboard<2.16,>=2.15->tensorflow) (3.5.1)\n",
            "Requirement already satisfied: tensorboard-data-server<0.8.0,>=0.7.0 in /usr/local/lib/python3.10/dist-packages (from tensorboard<2.16,>=2.15->tensorflow) (0.7.2)\n",
            "Requirement already satisfied: werkzeug>=1.0.1 in /usr/local/lib/python3.10/dist-packages (from tensorboard<2.16,>=2.15->tensorflow) (3.0.1)\n",
            "Requirement already satisfied: soupsieve>1.2 in /usr/local/lib/python3.10/dist-packages (from beautifulsoup4->gdown) (2.5)\n",
            "Requirement already satisfied: charset-normalizer<4,>=2 in /usr/local/lib/python3.10/dist-packages (from requests[socks]->gdown) (3.3.2)\n",
            "Requirement already satisfied: idna<4,>=2.5 in /usr/local/lib/python3.10/dist-packages (from requests[socks]->gdown) (3.6)\n",
            "Requirement already satisfied: urllib3<3,>=1.21.1 in /usr/local/lib/python3.10/dist-packages (from requests[socks]->gdown) (2.0.7)\n",
            "Requirement already satisfied: certifi>=2017.4.17 in /usr/local/lib/python3.10/dist-packages (from requests[socks]->gdown) (2023.11.17)\n",
            "Requirement already satisfied: PySocks!=1.5.7,>=1.5.6 in /usr/local/lib/python3.10/dist-packages (from requests[socks]->gdown) (1.7.1)\n",
            "Requirement already satisfied: cachetools<6.0,>=2.0.0 in /usr/local/lib/python3.10/dist-packages (from google-auth<3,>=1.6.3->tensorboard<2.16,>=2.15->tensorflow) (5.3.2)\n",
            "Requirement already satisfied: pyasn1-modules>=0.2.1 in /usr/local/lib/python3.10/dist-packages (from google-auth<3,>=1.6.3->tensorboard<2.16,>=2.15->tensorflow) (0.3.0)\n",
            "Requirement already satisfied: rsa<5,>=3.1.4 in /usr/local/lib/python3.10/dist-packages (from google-auth<3,>=1.6.3->tensorboard<2.16,>=2.15->tensorflow) (4.9)\n",
            "Requirement already satisfied: requests-oauthlib>=0.7.0 in /usr/local/lib/python3.10/dist-packages (from google-auth-oauthlib<2,>=0.5->tensorboard<2.16,>=2.15->tensorflow) (1.3.1)\n",
            "Requirement already satisfied: MarkupSafe>=2.1.1 in /usr/local/lib/python3.10/dist-packages (from werkzeug>=1.0.1->tensorboard<2.16,>=2.15->tensorflow) (2.1.3)\n",
            "Requirement already satisfied: pyasn1<0.6.0,>=0.4.6 in /usr/local/lib/python3.10/dist-packages (from pyasn1-modules>=0.2.1->google-auth<3,>=1.6.3->tensorboard<2.16,>=2.15->tensorflow) (0.5.1)\n",
            "Requirement already satisfied: oauthlib>=3.0.0 in /usr/local/lib/python3.10/dist-packages (from requests-oauthlib>=0.7.0->google-auth-oauthlib<2,>=0.5->tensorboard<2.16,>=2.15->tensorflow) (3.2.2)\n"
          ]
        }
      ],
      "source": [
        "!pip install tensorflow opencv-python matplotlib gdown"
      ]
    },
    {
      "cell_type": "markdown",
      "source": [
        "### **Importing Important Library**"
      ],
      "metadata": {
        "id": "xxA_E0on4i70"
      }
    },
    {
      "cell_type": "code",
      "source": [
        "import tensorflow as tf\n",
        "import os\n",
        "import urllib\n",
        "import zipfile\n",
        "import shutil\n",
        "import gdown\n",
        "import zipfile\n",
        "import matplotlib.pyplot as plt\n",
        "from sklearn.model_selection import train_test_split\n",
        "from tensorflow.keras.preprocessing.image import ImageDataGenerator\n",
        "from tensorflow.keras.optimizers import RMSprop\n",
        "from google.colab import files\n",
        "from tensorflow.keras.utils import load_img, img_to_array"
      ],
      "metadata": {
        "id": "DRK9SzfqT8Eg"
      },
      "execution_count": null,
      "outputs": []
    },
    {
      "cell_type": "markdown",
      "source": [
        "### **Preventing OOM**"
      ],
      "metadata": {
        "id": "W8jmiOyp4sNj"
      }
    },
    {
      "cell_type": "code",
      "source": [
        "# This code intend to avoid OOM(Out Of Memory)Errors\n",
        "gpus = tf.config.experimental.list_physical_devices('GPU')\n",
        "for gpu in gpus:\n",
        "    tf.config.experimental.set_memory_growth(gpu,True)"
      ],
      "metadata": {
        "id": "FzEUeBlpUWjX"
      },
      "execution_count": null,
      "outputs": []
    },
    {
      "cell_type": "markdown",
      "source": [
        "### **Downloading Dataset**"
      ],
      "metadata": {
        "id": "hkQHfLyT44TD"
      }
    },
    {
      "cell_type": "code",
      "source": [
        "# Function to download dataset from gdrive\n",
        "def download_and_extract_data():\n",
        "    url = 'https://drive.google.com/uc?id=18VLuTtzVG7-r_GixJf0uEFLXGSOvA5mn'  # URL to the file\n",
        "    output = 'Dataset.zip'  # file name to-be downloaded\n",
        "\n",
        "    gdown.download(url, output, quiet=False)\n",
        "\n",
        "    with zipfile.ZipFile('Dataset.zip', 'r') as zip_ref:\n",
        "        zip_ref.extractall()"
      ],
      "metadata": {
        "id": "5j5DNe-0reWB"
      },
      "execution_count": null,
      "outputs": []
    },
    {
      "cell_type": "code",
      "source": [
        "# Running the dataset-download function\n",
        "download_and_extract_data()"
      ],
      "metadata": {
        "colab": {
          "base_uri": "https://localhost:8080/"
        },
        "id": "dGhUL6BzyBTS",
        "outputId": "b7c3468d-5702-4fab-fe7a-7c1dc2a20656"
      },
      "execution_count": null,
      "outputs": [
        {
          "output_type": "stream",
          "name": "stderr",
          "text": [
            "Downloading...\n",
            "From: https://drive.google.com/uc?id=18VLuTtzVG7-r_GixJf0uEFLXGSOvA5mn\n",
            "To: /content/Dataset.zip\n",
            "100%|██████████| 234M/234M [00:03<00:00, 74.4MB/s]\n"
          ]
        }
      ]
    },
    {
      "cell_type": "code",
      "source": [
        "# Count the number of images in each folder\n",
        "def count_images_in_folder(folder_path):\n",
        "    count = 0\n",
        "    for filename in os.listdir(folder_path):\n",
        "        if filename.endswith('.jpg') or filename.endswith('.png') or filename.endswith('.jpeg'):\n",
        "            count += 1\n",
        "    return count\n",
        "\n",
        "defect_path = 'Dataset/defect'\n",
        "good_path = 'Dataset/good'\n",
        "\n",
        "defect_count = count_images_in_folder(defect_path)\n",
        "good_count = count_images_in_folder(good_path)\n",
        "\n",
        "print(f\"Number of images in the 'defect' folder: {defect_count}\")\n",
        "print(f\"Number of images in the 'good' folder: {good_count}\")"
      ],
      "metadata": {
        "colab": {
          "base_uri": "https://localhost:8080/"
        },
        "id": "EAywaeYEzCBA",
        "outputId": "b1a4b91e-8df3-4da9-f0e8-bd222374fb92"
      },
      "execution_count": null,
      "outputs": [
        {
          "output_type": "stream",
          "name": "stdout",
          "text": [
            "Number of images in the 'defect' folder: 1723\n",
            "Number of images in the 'good' folder: 1695\n"
          ]
        }
      ]
    },
    {
      "cell_type": "markdown",
      "source": [
        "### **Splitting the Data**"
      ],
      "metadata": {
        "id": "PHlZubnT6dRy"
      }
    },
    {
      "cell_type": "code",
      "source": [
        "# Path to the extracted dataset folder\n",
        "dataset_path = '/content/Dataset'\n",
        "\n",
        "# Path to training and validation folder\n",
        "train_dir = '/content/dataset_to_use/training'\n",
        "validation_dir = '/content/dataset_to_use/validation'\n",
        "\n",
        "# Define paths for classes 'defect' and 'good'\n",
        "defect_path = os.path.join(dataset_path, 'defect')\n",
        "good_path = os.path.join(dataset_path, 'good')\n",
        "\n",
        "# Create training and validation folders for each class\n",
        "train_defect_dir = os.path.join(train_dir, 'defect')\n",
        "train_good_dir = os.path.join(train_dir, 'good')\n",
        "validation_defect_dir = os.path.join(validation_dir, 'defect')\n",
        "validation_good_dir = os.path.join(validation_dir, 'good')\n",
        "\n",
        "os.makedirs(train_defect_dir, exist_ok=True)\n",
        "os.makedirs(train_good_dir, exist_ok=True)\n",
        "os.makedirs(validation_defect_dir, exist_ok=True)\n",
        "os.makedirs(validation_good_dir, exist_ok=True)\n",
        "\n",
        "# Get list of files for class 'defect' and 'good'\n",
        "defect_files = os.listdir(defect_path)\n",
        "good_files = os.listdir(good_path)"
      ],
      "metadata": {
        "id": "29Yqb7tXx1xE"
      },
      "execution_count": null,
      "outputs": []
    },
    {
      "cell_type": "code",
      "source": [
        "# Split the dataset into training and validation (e.g., 80-20)\n",
        "train_defect_files, val_defect_files = train_test_split(defect_files, test_size=0.2, random_state=42)\n",
        "train_good_files, val_good_files = train_test_split(good_files, test_size=0.2, random_state=42)\n",
        "\n",
        "# Move files into the training and validation folders\n",
        "for file in train_defect_files:\n",
        "    shutil.copy(os.path.join(defect_path, file), os.path.join(train_defect_dir, file))\n",
        "for file in val_defect_files:\n",
        "    shutil.copy(os.path.join(defect_path, file), os.path.join(validation_defect_dir, file))\n",
        "\n",
        "for file in train_good_files:\n",
        "    shutil.copy(os.path.join(good_path, file), os.path.join(train_good_dir, file))\n",
        "for file in val_good_files:\n",
        "    shutil.copy(os.path.join(good_path, file), os.path.join(validation_good_dir, file))\n",
        "\n",
        "# Check the number of images in each class for training and validation\n",
        "print(f\"Number of defect images for training: {len(os.listdir(train_defect_dir))}\")\n",
        "print(f\"Number of good images for training: {len(os.listdir(train_good_dir))}\")\n",
        "print(f\"Number of defect images for validation: {len(os.listdir(validation_defect_dir))}\")\n",
        "print(f\"Number of good images for validation: {len(os.listdir(validation_good_dir))}\")"
      ],
      "metadata": {
        "colab": {
          "base_uri": "https://localhost:8080/"
        },
        "id": "v12QWvh26Zta",
        "outputId": "72e4202b-add3-430f-ef3f-3e50b2e3b6c6"
      },
      "execution_count": null,
      "outputs": [
        {
          "output_type": "stream",
          "name": "stdout",
          "text": [
            "Number of defect images for training: 1378\n",
            "Number of good images for training: 1356\n",
            "Number of defect images for validation: 345\n",
            "Number of good images for validation: 339\n"
          ]
        }
      ]
    },
    {
      "cell_type": "markdown",
      "source": [
        "### **Data Augmentation**"
      ],
      "metadata": {
        "id": "Q8sqBv6I7Cue"
      }
    },
    {
      "cell_type": "code",
      "source": [
        "# Applying Data Augmentation for The Data\n",
        "train_datagen = ImageDataGenerator(\n",
        "      rescale=1./255,\n",
        "      rotation_range=40,\n",
        "      # width_shift_range=0.2,\n",
        "      # height_shift_range=0.2,\n",
        "      shear_range=0.2,\n",
        "      zoom_range=0.2,\n",
        "      horizontal_flip=True,\n",
        "      fill_mode='nearest')\n",
        "\n",
        "validation_datagen = ImageDataGenerator(rescale=1/255)"
      ],
      "metadata": {
        "id": "jYNlm4K2u6TJ"
      },
      "execution_count": null,
      "outputs": []
    },
    {
      "cell_type": "code",
      "source": [
        "train_dir = '/content/dataset_to_use/training'\n",
        "validation_dir = '/content/dataset_to_use/validation'\n",
        "\n",
        "\n",
        "# Applying Data Augmentation for Training Data\n",
        "train_generator = train_datagen.flow_from_directory(\n",
        "    train_dir,\n",
        "    target_size=(150, 150),\n",
        "    # batch_size=32,\n",
        "    class_mode='binary')  # Using class_mode='binary' for binary classification\n",
        "\n",
        "# Applying Data Augmentation for Validation Data\n",
        "validation_generator = validation_datagen.flow_from_directory(\n",
        "    validation_dir,\n",
        "    target_size=(150, 150),\n",
        "    # batch_size=32,\n",
        "    class_mode='binary')  # Also using class_mode='binary' for binary classification"
      ],
      "metadata": {
        "colab": {
          "base_uri": "https://localhost:8080/"
        },
        "id": "gV4UP7Eh66hI",
        "outputId": "86afa186-42d9-4842-b6df-afa1393cb455"
      },
      "execution_count": null,
      "outputs": [
        {
          "output_type": "stream",
          "name": "stdout",
          "text": [
            "Found 2734 images belonging to 2 classes.\n",
            "Found 684 images belonging to 2 classes.\n"
          ]
        }
      ]
    },
    {
      "cell_type": "markdown",
      "source": [
        "### **Building the Model**"
      ],
      "metadata": {
        "id": "MGjSXJlz9nHg"
      }
    },
    {
      "cell_type": "code",
      "source": [
        "# # Version 1\n",
        "# model = tf.keras.models.Sequential([\n",
        "#     tf.keras.layers.Conv2D(32, (5, 5), activation='relu', input_shape=(150, 150, 3)),\n",
        "#     tf.keras.layers.MaxPooling2D(2, 2),\n",
        "#     tf.keras.layers.Dropout(0.3),\n",
        "#     tf.keras.layers.Conv2D(64, (5, 5), activation='relu'),\n",
        "#     tf.keras.layers.MaxPooling2D(2, 2),\n",
        "#     tf.keras.layers.Flatten(),\n",
        "#     tf.keras.layers.Dense(512, activation='relu'),\n",
        "#     tf.keras.layers.Dense(1, activation='sigmoid')\n",
        "# ])\n",
        "\n",
        "# Version 2\n",
        "model = tf.keras.models.Sequential([\n",
        "    tf.keras.layers.Conv2D(8, (5, 5), activation='relu', input_shape=(150, 150, 3)),\n",
        "    tf.keras.layers.MaxPooling2D(2, 2),\n",
        "    tf.keras.layers.Dropout(0.3),\n",
        "    tf.keras.layers.Conv2D(16, (5, 5), activation='relu'),\n",
        "    tf.keras.layers.MaxPooling2D(2, 2),\n",
        "    tf.keras.layers.Flatten(),\n",
        "    tf.keras.layers.Dense(128, activation='relu'),\n",
        "    tf.keras.layers.Dense(1, activation='sigmoid')\n",
        "])"
      ],
      "metadata": {
        "id": "j1s2ZYrl35uU"
      },
      "execution_count": null,
      "outputs": []
    },
    {
      "cell_type": "code",
      "source": [
        "model.summary()"
      ],
      "metadata": {
        "colab": {
          "base_uri": "https://localhost:8080/"
        },
        "id": "H9u7cFHfDfpv",
        "outputId": "ea723951-df69-44cb-d7e3-630f20c38dd6"
      },
      "execution_count": null,
      "outputs": [
        {
          "output_type": "stream",
          "name": "stdout",
          "text": [
            "Model: \"sequential\"\n",
            "_________________________________________________________________\n",
            " Layer (type)                Output Shape              Param #   \n",
            "=================================================================\n",
            " conv2d (Conv2D)             (None, 146, 146, 8)       608       \n",
            "                                                                 \n",
            " max_pooling2d (MaxPooling2  (None, 73, 73, 8)         0         \n",
            " D)                                                              \n",
            "                                                                 \n",
            " dropout (Dropout)           (None, 73, 73, 8)         0         \n",
            "                                                                 \n",
            " conv2d_1 (Conv2D)           (None, 69, 69, 16)        3216      \n",
            "                                                                 \n",
            " max_pooling2d_1 (MaxPoolin  (None, 34, 34, 16)        0         \n",
            " g2D)                                                            \n",
            "                                                                 \n",
            " flatten (Flatten)           (None, 18496)             0         \n",
            "                                                                 \n",
            " dense (Dense)               (None, 128)               2367616   \n",
            "                                                                 \n",
            " dense_1 (Dense)             (None, 1)                 129       \n",
            "                                                                 \n",
            "=================================================================\n",
            "Total params: 2371569 (9.05 MB)\n",
            "Trainable params: 2371569 (9.05 MB)\n",
            "Non-trainable params: 0 (0.00 Byte)\n",
            "_________________________________________________________________\n"
          ]
        }
      ]
    },
    {
      "cell_type": "markdown",
      "source": [
        "### **Compile and Train the Model**"
      ],
      "metadata": {
        "id": "phxsTgm393ne"
      }
    },
    {
      "cell_type": "code",
      "source": [
        "EPOCHS = 100"
      ],
      "metadata": {
        "id": "uwmi3ocOGAqf"
      },
      "execution_count": null,
      "outputs": []
    },
    {
      "cell_type": "code",
      "source": [
        "model.compile(loss='binary_crossentropy',\n",
        "              optimizer=RMSprop(learning_rate=0.001),\n",
        "              metrics=['accuracy'])\n",
        "\n",
        "history = model.fit(\n",
        "    train_generator,\n",
        "    # steps_per_epoch=20,\n",
        "    epochs=EPOCHS,\n",
        "    validation_data=validation_generator,\n",
        "    # validation_steps=5,\n",
        "    verbose=2\n",
        "    )"
      ],
      "metadata": {
        "id": "FePLuFkhF2hZ",
        "colab": {
          "base_uri": "https://localhost:8080/"
        },
        "outputId": "1121ee8b-4bae-4ae7-b6da-f78ccb5d574f"
      },
      "execution_count": null,
      "outputs": [
        {
          "output_type": "stream",
          "name": "stdout",
          "text": [
            "Epoch 1/100\n",
            "86/86 - 90s - loss: 0.9396 - accuracy: 0.5026 - val_loss: 0.6922 - val_accuracy: 0.5614 - 90s/epoch - 1s/step\n",
            "Epoch 2/100\n",
            "86/86 - 98s - loss: 0.6954 - accuracy: 0.5523 - val_loss: 0.6815 - val_accuracy: 0.4956 - 98s/epoch - 1s/step\n",
            "Epoch 3/100\n",
            "86/86 - 99s - loss: 0.6745 - accuracy: 0.5940 - val_loss: 0.6562 - val_accuracy: 0.6637 - 99s/epoch - 1s/step\n",
            "Epoch 4/100\n",
            "86/86 - 89s - loss: 0.6190 - accuracy: 0.6624 - val_loss: 0.5897 - val_accuracy: 0.7032 - 89s/epoch - 1s/step\n",
            "Epoch 5/100\n",
            "86/86 - 92s - loss: 0.6134 - accuracy: 0.6584 - val_loss: 0.6071 - val_accuracy: 0.6944 - 92s/epoch - 1s/step\n",
            "Epoch 6/100\n",
            "86/86 - 95s - loss: 0.5816 - accuracy: 0.6942 - val_loss: 0.5330 - val_accuracy: 0.7485 - 95s/epoch - 1s/step\n",
            "Epoch 7/100\n",
            "86/86 - 94s - loss: 0.5645 - accuracy: 0.7089 - val_loss: 0.6337 - val_accuracy: 0.6345 - 94s/epoch - 1s/step\n",
            "Epoch 8/100\n",
            "86/86 - 99s - loss: 0.5392 - accuracy: 0.7180 - val_loss: 0.5895 - val_accuracy: 0.6886 - 99s/epoch - 1s/step\n",
            "Epoch 9/100\n",
            "86/86 - 91s - loss: 0.5364 - accuracy: 0.7253 - val_loss: 0.5320 - val_accuracy: 0.7398 - 91s/epoch - 1s/step\n",
            "Epoch 10/100\n",
            "86/86 - 95s - loss: 0.5289 - accuracy: 0.7282 - val_loss: 0.5295 - val_accuracy: 0.7383 - 95s/epoch - 1s/step\n",
            "Epoch 11/100\n",
            "86/86 - 92s - loss: 0.5211 - accuracy: 0.7337 - val_loss: 0.5060 - val_accuracy: 0.7602 - 92s/epoch - 1s/step\n",
            "Epoch 12/100\n",
            "86/86 - 103s - loss: 0.5292 - accuracy: 0.7407 - val_loss: 0.5055 - val_accuracy: 0.7515 - 103s/epoch - 1s/step\n",
            "Epoch 13/100\n",
            "86/86 - 89s - loss: 0.4937 - accuracy: 0.7513 - val_loss: 0.4687 - val_accuracy: 0.7909 - 89s/epoch - 1s/step\n",
            "Epoch 14/100\n",
            "86/86 - 103s - loss: 0.5037 - accuracy: 0.7491 - val_loss: 0.4712 - val_accuracy: 0.7792 - 103s/epoch - 1s/step\n",
            "Epoch 15/100\n",
            "86/86 - 90s - loss: 0.4855 - accuracy: 0.7575 - val_loss: 0.4674 - val_accuracy: 0.7909 - 90s/epoch - 1s/step\n",
            "Epoch 16/100\n",
            "86/86 - 102s - loss: 0.4764 - accuracy: 0.7575 - val_loss: 0.4588 - val_accuracy: 0.7924 - 102s/epoch - 1s/step\n",
            "Epoch 17/100\n",
            "86/86 - 89s - loss: 0.4787 - accuracy: 0.7601 - val_loss: 0.5181 - val_accuracy: 0.7354 - 89s/epoch - 1s/step\n",
            "Epoch 18/100\n",
            "86/86 - 89s - loss: 0.4798 - accuracy: 0.7655 - val_loss: 0.4968 - val_accuracy: 0.7588 - 89s/epoch - 1s/step\n",
            "Epoch 19/100\n",
            "86/86 - 93s - loss: 0.4623 - accuracy: 0.7641 - val_loss: 0.4512 - val_accuracy: 0.7880 - 93s/epoch - 1s/step\n",
            "Epoch 20/100\n",
            "86/86 - 91s - loss: 0.4609 - accuracy: 0.7670 - val_loss: 0.4779 - val_accuracy: 0.7865 - 91s/epoch - 1s/step\n",
            "Epoch 21/100\n",
            "86/86 - 89s - loss: 0.4490 - accuracy: 0.7787 - val_loss: 0.4611 - val_accuracy: 0.7807 - 89s/epoch - 1s/step\n",
            "Epoch 22/100\n",
            "86/86 - 97s - loss: 0.4331 - accuracy: 0.7831 - val_loss: 0.4384 - val_accuracy: 0.7822 - 97s/epoch - 1s/step\n",
            "Epoch 23/100\n",
            "86/86 - 89s - loss: 0.4459 - accuracy: 0.7769 - val_loss: 0.4150 - val_accuracy: 0.7895 - 89s/epoch - 1s/step\n",
            "Epoch 24/100\n",
            "86/86 - 104s - loss: 0.4581 - accuracy: 0.7871 - val_loss: 0.4153 - val_accuracy: 0.8202 - 104s/epoch - 1s/step\n",
            "Epoch 25/100\n",
            "86/86 - 98s - loss: 0.4274 - accuracy: 0.7911 - val_loss: 0.5874 - val_accuracy: 0.7003 - 98s/epoch - 1s/step\n",
            "Epoch 26/100\n",
            "86/86 - 97s - loss: 0.4327 - accuracy: 0.7871 - val_loss: 0.4591 - val_accuracy: 0.7880 - 97s/epoch - 1s/step\n",
            "Epoch 27/100\n",
            "86/86 - 92s - loss: 0.4271 - accuracy: 0.8021 - val_loss: 0.4085 - val_accuracy: 0.8333 - 92s/epoch - 1s/step\n",
            "Epoch 28/100\n",
            "86/86 - 103s - loss: 0.4084 - accuracy: 0.8014 - val_loss: 0.5279 - val_accuracy: 0.7251 - 103s/epoch - 1s/step\n",
            "Epoch 29/100\n",
            "86/86 - 89s - loss: 0.4056 - accuracy: 0.8186 - val_loss: 0.4014 - val_accuracy: 0.8348 - 89s/epoch - 1s/step\n",
            "Epoch 30/100\n",
            "86/86 - 94s - loss: 0.4073 - accuracy: 0.8040 - val_loss: 0.4552 - val_accuracy: 0.7851 - 94s/epoch - 1s/step\n",
            "Epoch 31/100\n",
            "86/86 - 93s - loss: 0.4065 - accuracy: 0.8109 - val_loss: 0.4555 - val_accuracy: 0.7778 - 93s/epoch - 1s/step\n",
            "Epoch 32/100\n",
            "86/86 - 101s - loss: 0.3853 - accuracy: 0.8259 - val_loss: 0.3540 - val_accuracy: 0.8626 - 101s/epoch - 1s/step\n",
            "Epoch 33/100\n",
            "86/86 - 86s - loss: 0.3796 - accuracy: 0.8222 - val_loss: 0.3527 - val_accuracy: 0.8436 - 86s/epoch - 1s/step\n",
            "Epoch 34/100\n",
            "86/86 - 94s - loss: 0.3957 - accuracy: 0.8153 - val_loss: 0.4140 - val_accuracy: 0.8275 - 94s/epoch - 1s/step\n",
            "Epoch 35/100\n",
            "86/86 - 101s - loss: 0.3708 - accuracy: 0.8369 - val_loss: 0.4376 - val_accuracy: 0.7982 - 101s/epoch - 1s/step\n",
            "Epoch 36/100\n",
            "86/86 - 94s - loss: 0.3805 - accuracy: 0.8321 - val_loss: 0.4852 - val_accuracy: 0.7880 - 94s/epoch - 1s/step\n",
            "Epoch 37/100\n",
            "86/86 - 88s - loss: 0.3861 - accuracy: 0.8248 - val_loss: 0.3561 - val_accuracy: 0.8538 - 88s/epoch - 1s/step\n",
            "Epoch 38/100\n",
            "86/86 - 92s - loss: 0.3709 - accuracy: 0.8325 - val_loss: 0.3425 - val_accuracy: 0.8304 - 92s/epoch - 1s/step\n",
            "Epoch 39/100\n",
            "86/86 - 91s - loss: 0.3805 - accuracy: 0.8285 - val_loss: 0.3284 - val_accuracy: 0.8640 - 91s/epoch - 1s/step\n",
            "Epoch 40/100\n",
            "86/86 - 99s - loss: 0.3557 - accuracy: 0.8391 - val_loss: 0.4384 - val_accuracy: 0.8085 - 99s/epoch - 1s/step\n",
            "Epoch 41/100\n",
            "86/86 - 86s - loss: 0.3674 - accuracy: 0.8314 - val_loss: 0.3561 - val_accuracy: 0.8406 - 86s/epoch - 1s/step\n",
            "Epoch 42/100\n",
            "86/86 - 91s - loss: 0.3727 - accuracy: 0.8310 - val_loss: 0.3418 - val_accuracy: 0.8553 - 91s/epoch - 1s/step\n",
            "Epoch 43/100\n",
            "86/86 - 90s - loss: 0.3345 - accuracy: 0.8541 - val_loss: 0.4217 - val_accuracy: 0.8129 - 90s/epoch - 1s/step\n",
            "Epoch 44/100\n",
            "86/86 - 89s - loss: 0.3576 - accuracy: 0.8416 - val_loss: 0.4689 - val_accuracy: 0.8026 - 89s/epoch - 1s/step\n",
            "Epoch 45/100\n",
            "86/86 - 96s - loss: 0.3505 - accuracy: 0.8489 - val_loss: 0.3607 - val_accuracy: 0.8523 - 96s/epoch - 1s/step\n",
            "Epoch 46/100\n",
            "86/86 - 88s - loss: 0.3343 - accuracy: 0.8548 - val_loss: 0.3311 - val_accuracy: 0.8713 - 88s/epoch - 1s/step\n",
            "Epoch 47/100\n",
            "86/86 - 93s - loss: 0.3456 - accuracy: 0.8482 - val_loss: 0.4513 - val_accuracy: 0.7924 - 93s/epoch - 1s/step\n",
            "Epoch 48/100\n",
            "86/86 - 100s - loss: 0.3209 - accuracy: 0.8537 - val_loss: 0.3089 - val_accuracy: 0.8640 - 100s/epoch - 1s/step\n",
            "Epoch 49/100\n",
            "86/86 - 88s - loss: 0.3327 - accuracy: 0.8581 - val_loss: 0.3823 - val_accuracy: 0.8304 - 88s/epoch - 1s/step\n",
            "Epoch 50/100\n",
            "86/86 - 87s - loss: 0.3245 - accuracy: 0.8599 - val_loss: 0.4448 - val_accuracy: 0.7968 - 87s/epoch - 1s/step\n",
            "Epoch 51/100\n",
            "86/86 - 91s - loss: 0.3209 - accuracy: 0.8643 - val_loss: 0.2926 - val_accuracy: 0.8904 - 91s/epoch - 1s/step\n",
            "Epoch 52/100\n",
            "86/86 - 90s - loss: 0.3195 - accuracy: 0.8691 - val_loss: 0.4801 - val_accuracy: 0.7851 - 90s/epoch - 1s/step\n",
            "Epoch 53/100\n",
            "86/86 - 87s - loss: 0.3161 - accuracy: 0.8643 - val_loss: 0.4723 - val_accuracy: 0.7895 - 87s/epoch - 1s/step\n",
            "Epoch 54/100\n",
            "86/86 - 99s - loss: 0.3086 - accuracy: 0.8694 - val_loss: 0.3602 - val_accuracy: 0.8582 - 99s/epoch - 1s/step\n",
            "Epoch 55/100\n",
            "86/86 - 89s - loss: 0.3005 - accuracy: 0.8793 - val_loss: 0.3356 - val_accuracy: 0.8582 - 89s/epoch - 1s/step\n",
            "Epoch 56/100\n",
            "86/86 - 90s - loss: 0.3023 - accuracy: 0.8713 - val_loss: 0.3215 - val_accuracy: 0.8596 - 90s/epoch - 1s/step\n",
            "Epoch 57/100\n",
            "86/86 - 85s - loss: 0.2981 - accuracy: 0.8764 - val_loss: 0.3489 - val_accuracy: 0.8596 - 85s/epoch - 994ms/step\n",
            "Epoch 58/100\n",
            "86/86 - 94s - loss: 0.2958 - accuracy: 0.8698 - val_loss: 0.3982 - val_accuracy: 0.8275 - 94s/epoch - 1s/step\n",
            "Epoch 59/100\n",
            "86/86 - 87s - loss: 0.2947 - accuracy: 0.8727 - val_loss: 0.3203 - val_accuracy: 0.8816 - 87s/epoch - 1s/step\n",
            "Epoch 60/100\n",
            "86/86 - 91s - loss: 0.2898 - accuracy: 0.8789 - val_loss: 0.2565 - val_accuracy: 0.8962 - 91s/epoch - 1s/step\n",
            "Epoch 61/100\n",
            "86/86 - 87s - loss: 0.2906 - accuracy: 0.8815 - val_loss: 0.3028 - val_accuracy: 0.8670 - 87s/epoch - 1s/step\n",
            "Epoch 62/100\n",
            "86/86 - 92s - loss: 0.2574 - accuracy: 0.8903 - val_loss: 0.2413 - val_accuracy: 0.8977 - 92s/epoch - 1s/step\n",
            "Epoch 63/100\n",
            "86/86 - 92s - loss: 0.2832 - accuracy: 0.8793 - val_loss: 0.2837 - val_accuracy: 0.8918 - 92s/epoch - 1s/step\n",
            "Epoch 64/100\n",
            "86/86 - 99s - loss: 0.2747 - accuracy: 0.8851 - val_loss: 0.3957 - val_accuracy: 0.8260 - 99s/epoch - 1s/step\n",
            "Epoch 65/100\n",
            "86/86 - 89s - loss: 0.2660 - accuracy: 0.8841 - val_loss: 0.3695 - val_accuracy: 0.8582 - 89s/epoch - 1s/step\n",
            "Epoch 66/100\n",
            "86/86 - 93s - loss: 0.2596 - accuracy: 0.8958 - val_loss: 0.3931 - val_accuracy: 0.8319 - 93s/epoch - 1s/step\n",
            "Epoch 67/100\n",
            "86/86 - 89s - loss: 0.2687 - accuracy: 0.8932 - val_loss: 0.3229 - val_accuracy: 0.8787 - 89s/epoch - 1s/step\n",
            "Epoch 68/100\n",
            "86/86 - 89s - loss: 0.2637 - accuracy: 0.8906 - val_loss: 0.3678 - val_accuracy: 0.8480 - 89s/epoch - 1s/step\n",
            "Epoch 69/100\n",
            "86/86 - 88s - loss: 0.2595 - accuracy: 0.8910 - val_loss: 0.3057 - val_accuracy: 0.8640 - 88s/epoch - 1s/step\n",
            "Epoch 70/100\n",
            "86/86 - 91s - loss: 0.2658 - accuracy: 0.8903 - val_loss: 0.2460 - val_accuracy: 0.9123 - 91s/epoch - 1s/step\n",
            "Epoch 71/100\n",
            "86/86 - 91s - loss: 0.2497 - accuracy: 0.8932 - val_loss: 0.3600 - val_accuracy: 0.8640 - 91s/epoch - 1s/step\n",
            "Epoch 72/100\n",
            "86/86 - 89s - loss: 0.2585 - accuracy: 0.8899 - val_loss: 0.2729 - val_accuracy: 0.8977 - 89s/epoch - 1s/step\n",
            "Epoch 73/100\n",
            "86/86 - 101s - loss: 0.2639 - accuracy: 0.8958 - val_loss: 0.3495 - val_accuracy: 0.8582 - 101s/epoch - 1s/step\n",
            "Epoch 74/100\n",
            "86/86 - 87s - loss: 0.2493 - accuracy: 0.8958 - val_loss: 0.3566 - val_accuracy: 0.8567 - 87s/epoch - 1s/step\n",
            "Epoch 75/100\n",
            "86/86 - 92s - loss: 0.2741 - accuracy: 0.8932 - val_loss: 0.3869 - val_accuracy: 0.8553 - 92s/epoch - 1s/step\n",
            "Epoch 76/100\n",
            "86/86 - 91s - loss: 0.2469 - accuracy: 0.9034 - val_loss: 0.2999 - val_accuracy: 0.8801 - 91s/epoch - 1s/step\n",
            "Epoch 77/100\n",
            "86/86 - 102s - loss: 0.2769 - accuracy: 0.8972 - val_loss: 0.3058 - val_accuracy: 0.8845 - 102s/epoch - 1s/step\n",
            "Epoch 78/100\n",
            "86/86 - 98s - loss: 0.2380 - accuracy: 0.9005 - val_loss: 0.3983 - val_accuracy: 0.8304 - 98s/epoch - 1s/step\n",
            "Epoch 79/100\n",
            "86/86 - 92s - loss: 0.2357 - accuracy: 0.9100 - val_loss: 0.2340 - val_accuracy: 0.9064 - 92s/epoch - 1s/step\n",
            "Epoch 80/100\n",
            "86/86 - 89s - loss: 0.2351 - accuracy: 0.9056 - val_loss: 0.2920 - val_accuracy: 0.8772 - 89s/epoch - 1s/step\n",
            "Epoch 81/100\n",
            "86/86 - 90s - loss: 0.2344 - accuracy: 0.9082 - val_loss: 0.2792 - val_accuracy: 0.8772 - 90s/epoch - 1s/step\n",
            "Epoch 82/100\n",
            "86/86 - 88s - loss: 0.2229 - accuracy: 0.9089 - val_loss: 0.3351 - val_accuracy: 0.8538 - 88s/epoch - 1s/step\n",
            "Epoch 83/100\n",
            "86/86 - 98s - loss: 0.2303 - accuracy: 0.9111 - val_loss: 0.2354 - val_accuracy: 0.9050 - 98s/epoch - 1s/step\n",
            "Epoch 84/100\n",
            "86/86 - 98s - loss: 0.2514 - accuracy: 0.9038 - val_loss: 0.2546 - val_accuracy: 0.9094 - 98s/epoch - 1s/step\n",
            "Epoch 85/100\n",
            "86/86 - 104s - loss: 0.2425 - accuracy: 0.9012 - val_loss: 0.3002 - val_accuracy: 0.8772 - 104s/epoch - 1s/step\n",
            "Epoch 86/100\n",
            "86/86 - 105s - loss: 0.2252 - accuracy: 0.9064 - val_loss: 0.3939 - val_accuracy: 0.8377 - 105s/epoch - 1s/step\n",
            "Epoch 87/100\n",
            "86/86 - 94s - loss: 0.2267 - accuracy: 0.9093 - val_loss: 0.2226 - val_accuracy: 0.9094 - 94s/epoch - 1s/step\n",
            "Epoch 88/100\n",
            "86/86 - 89s - loss: 0.2333 - accuracy: 0.9122 - val_loss: 0.2565 - val_accuracy: 0.8962 - 89s/epoch - 1s/step\n",
            "Epoch 89/100\n",
            "86/86 - 90s - loss: 0.2187 - accuracy: 0.9126 - val_loss: 0.3893 - val_accuracy: 0.8582 - 90s/epoch - 1s/step\n",
            "Epoch 90/100\n",
            "86/86 - 91s - loss: 0.2167 - accuracy: 0.9214 - val_loss: 0.2411 - val_accuracy: 0.8918 - 91s/epoch - 1s/step\n",
            "Epoch 91/100\n",
            "86/86 - 90s - loss: 0.2188 - accuracy: 0.9115 - val_loss: 0.2009 - val_accuracy: 0.9123 - 90s/epoch - 1s/step\n",
            "Epoch 92/100\n",
            "86/86 - 90s - loss: 0.2148 - accuracy: 0.9236 - val_loss: 0.3567 - val_accuracy: 0.8596 - 90s/epoch - 1s/step\n",
            "Epoch 93/100\n",
            "86/86 - 93s - loss: 0.2165 - accuracy: 0.9155 - val_loss: 0.3896 - val_accuracy: 0.8509 - 93s/epoch - 1s/step\n",
            "Epoch 94/100\n",
            "86/86 - 87s - loss: 0.2160 - accuracy: 0.9148 - val_loss: 0.2612 - val_accuracy: 0.8860 - 87s/epoch - 1s/step\n",
            "Epoch 95/100\n",
            "86/86 - 89s - loss: 0.1921 - accuracy: 0.9221 - val_loss: 0.3497 - val_accuracy: 0.8640 - 89s/epoch - 1s/step\n",
            "Epoch 96/100\n",
            "86/86 - 97s - loss: 0.1958 - accuracy: 0.9228 - val_loss: 0.3848 - val_accuracy: 0.8319 - 97s/epoch - 1s/step\n",
            "Epoch 97/100\n",
            "86/86 - 88s - loss: 0.2024 - accuracy: 0.9236 - val_loss: 0.2462 - val_accuracy: 0.9064 - 88s/epoch - 1s/step\n",
            "Epoch 98/100\n",
            "86/86 - 87s - loss: 0.2103 - accuracy: 0.9243 - val_loss: 0.2120 - val_accuracy: 0.9108 - 87s/epoch - 1s/step\n",
            "Epoch 99/100\n",
            "86/86 - 92s - loss: 0.2643 - accuracy: 0.9100 - val_loss: 0.2364 - val_accuracy: 0.9035 - 92s/epoch - 1s/step\n",
            "Epoch 100/100\n",
            "86/86 - 88s - loss: 0.2296 - accuracy: 0.9140 - val_loss: 0.2713 - val_accuracy: 0.8933 - 88s/epoch - 1s/step\n"
          ]
        }
      ]
    },
    {
      "cell_type": "markdown",
      "source": [
        "### **Try Predicting Using the Model**"
      ],
      "metadata": {
        "id": "_UwTccirfJJ1"
      }
    },
    {
      "cell_type": "code",
      "source": [
        "import numpy as np\n",
        "\n",
        "uploaded = files.upload()\n",
        "\n",
        "def map_class(prediction):\n",
        "    if prediction < 0.5:\n",
        "        return 'defect'\n",
        "    else:\n",
        "        return 'good'\n",
        "\n",
        "for fn in uploaded.keys():\n",
        "    # Predicting images\n",
        "    path = fn\n",
        "    img = load_img(path, target_size=(150, 150))\n",
        "    x = img_to_array(img)\n",
        "    x = np.expand_dims(x, axis=0)\n",
        "\n",
        "    images = np.vstack([x])\n",
        "    classes = model.predict(images, batch_size=10)\n",
        "    class_label = map_class(classes[0][0])\n",
        "    print(fn)\n",
        "    print(class_label)"
      ],
      "metadata": {
        "id": "HUqzxd2hfN7g",
        "colab": {
          "base_uri": "https://localhost:8080/",
          "height": 125
        },
        "outputId": "db935be7-e709-4779-ba24-e2d062663fef"
      },
      "execution_count": null,
      "outputs": [
        {
          "output_type": "display_data",
          "data": {
            "text/plain": [
              "<IPython.core.display.HTML object>"
            ],
            "text/html": [
              "\n",
              "     <input type=\"file\" id=\"files-d2c96217-974e-4243-9bbd-0fe287e8a379\" name=\"files[]\" multiple disabled\n",
              "        style=\"border:none\" />\n",
              "     <output id=\"result-d2c96217-974e-4243-9bbd-0fe287e8a379\">\n",
              "      Upload widget is only available when the cell has been executed in the\n",
              "      current browser session. Please rerun this cell to enable.\n",
              "      </output>\n",
              "      <script>// Copyright 2017 Google LLC\n",
              "//\n",
              "// Licensed under the Apache License, Version 2.0 (the \"License\");\n",
              "// you may not use this file except in compliance with the License.\n",
              "// You may obtain a copy of the License at\n",
              "//\n",
              "//      http://www.apache.org/licenses/LICENSE-2.0\n",
              "//\n",
              "// Unless required by applicable law or agreed to in writing, software\n",
              "// distributed under the License is distributed on an \"AS IS\" BASIS,\n",
              "// WITHOUT WARRANTIES OR CONDITIONS OF ANY KIND, either express or implied.\n",
              "// See the License for the specific language governing permissions and\n",
              "// limitations under the License.\n",
              "\n",
              "/**\n",
              " * @fileoverview Helpers for google.colab Python module.\n",
              " */\n",
              "(function(scope) {\n",
              "function span(text, styleAttributes = {}) {\n",
              "  const element = document.createElement('span');\n",
              "  element.textContent = text;\n",
              "  for (const key of Object.keys(styleAttributes)) {\n",
              "    element.style[key] = styleAttributes[key];\n",
              "  }\n",
              "  return element;\n",
              "}\n",
              "\n",
              "// Max number of bytes which will be uploaded at a time.\n",
              "const MAX_PAYLOAD_SIZE = 100 * 1024;\n",
              "\n",
              "function _uploadFiles(inputId, outputId) {\n",
              "  const steps = uploadFilesStep(inputId, outputId);\n",
              "  const outputElement = document.getElementById(outputId);\n",
              "  // Cache steps on the outputElement to make it available for the next call\n",
              "  // to uploadFilesContinue from Python.\n",
              "  outputElement.steps = steps;\n",
              "\n",
              "  return _uploadFilesContinue(outputId);\n",
              "}\n",
              "\n",
              "// This is roughly an async generator (not supported in the browser yet),\n",
              "// where there are multiple asynchronous steps and the Python side is going\n",
              "// to poll for completion of each step.\n",
              "// This uses a Promise to block the python side on completion of each step,\n",
              "// then passes the result of the previous step as the input to the next step.\n",
              "function _uploadFilesContinue(outputId) {\n",
              "  const outputElement = document.getElementById(outputId);\n",
              "  const steps = outputElement.steps;\n",
              "\n",
              "  const next = steps.next(outputElement.lastPromiseValue);\n",
              "  return Promise.resolve(next.value.promise).then((value) => {\n",
              "    // Cache the last promise value to make it available to the next\n",
              "    // step of the generator.\n",
              "    outputElement.lastPromiseValue = value;\n",
              "    return next.value.response;\n",
              "  });\n",
              "}\n",
              "\n",
              "/**\n",
              " * Generator function which is called between each async step of the upload\n",
              " * process.\n",
              " * @param {string} inputId Element ID of the input file picker element.\n",
              " * @param {string} outputId Element ID of the output display.\n",
              " * @return {!Iterable<!Object>} Iterable of next steps.\n",
              " */\n",
              "function* uploadFilesStep(inputId, outputId) {\n",
              "  const inputElement = document.getElementById(inputId);\n",
              "  inputElement.disabled = false;\n",
              "\n",
              "  const outputElement = document.getElementById(outputId);\n",
              "  outputElement.innerHTML = '';\n",
              "\n",
              "  const pickedPromise = new Promise((resolve) => {\n",
              "    inputElement.addEventListener('change', (e) => {\n",
              "      resolve(e.target.files);\n",
              "    });\n",
              "  });\n",
              "\n",
              "  const cancel = document.createElement('button');\n",
              "  inputElement.parentElement.appendChild(cancel);\n",
              "  cancel.textContent = 'Cancel upload';\n",
              "  const cancelPromise = new Promise((resolve) => {\n",
              "    cancel.onclick = () => {\n",
              "      resolve(null);\n",
              "    };\n",
              "  });\n",
              "\n",
              "  // Wait for the user to pick the files.\n",
              "  const files = yield {\n",
              "    promise: Promise.race([pickedPromise, cancelPromise]),\n",
              "    response: {\n",
              "      action: 'starting',\n",
              "    }\n",
              "  };\n",
              "\n",
              "  cancel.remove();\n",
              "\n",
              "  // Disable the input element since further picks are not allowed.\n",
              "  inputElement.disabled = true;\n",
              "\n",
              "  if (!files) {\n",
              "    return {\n",
              "      response: {\n",
              "        action: 'complete',\n",
              "      }\n",
              "    };\n",
              "  }\n",
              "\n",
              "  for (const file of files) {\n",
              "    const li = document.createElement('li');\n",
              "    li.append(span(file.name, {fontWeight: 'bold'}));\n",
              "    li.append(span(\n",
              "        `(${file.type || 'n/a'}) - ${file.size} bytes, ` +\n",
              "        `last modified: ${\n",
              "            file.lastModifiedDate ? file.lastModifiedDate.toLocaleDateString() :\n",
              "                                    'n/a'} - `));\n",
              "    const percent = span('0% done');\n",
              "    li.appendChild(percent);\n",
              "\n",
              "    outputElement.appendChild(li);\n",
              "\n",
              "    const fileDataPromise = new Promise((resolve) => {\n",
              "      const reader = new FileReader();\n",
              "      reader.onload = (e) => {\n",
              "        resolve(e.target.result);\n",
              "      };\n",
              "      reader.readAsArrayBuffer(file);\n",
              "    });\n",
              "    // Wait for the data to be ready.\n",
              "    let fileData = yield {\n",
              "      promise: fileDataPromise,\n",
              "      response: {\n",
              "        action: 'continue',\n",
              "      }\n",
              "    };\n",
              "\n",
              "    // Use a chunked sending to avoid message size limits. See b/62115660.\n",
              "    let position = 0;\n",
              "    do {\n",
              "      const length = Math.min(fileData.byteLength - position, MAX_PAYLOAD_SIZE);\n",
              "      const chunk = new Uint8Array(fileData, position, length);\n",
              "      position += length;\n",
              "\n",
              "      const base64 = btoa(String.fromCharCode.apply(null, chunk));\n",
              "      yield {\n",
              "        response: {\n",
              "          action: 'append',\n",
              "          file: file.name,\n",
              "          data: base64,\n",
              "        },\n",
              "      };\n",
              "\n",
              "      let percentDone = fileData.byteLength === 0 ?\n",
              "          100 :\n",
              "          Math.round((position / fileData.byteLength) * 100);\n",
              "      percent.textContent = `${percentDone}% done`;\n",
              "\n",
              "    } while (position < fileData.byteLength);\n",
              "  }\n",
              "\n",
              "  // All done.\n",
              "  yield {\n",
              "    response: {\n",
              "      action: 'complete',\n",
              "    }\n",
              "  };\n",
              "}\n",
              "\n",
              "scope.google = scope.google || {};\n",
              "scope.google.colab = scope.google.colab || {};\n",
              "scope.google.colab._files = {\n",
              "  _uploadFiles,\n",
              "  _uploadFilesContinue,\n",
              "};\n",
              "})(self);\n",
              "</script> "
            ]
          },
          "metadata": {}
        },
        {
          "output_type": "stream",
          "name": "stdout",
          "text": [
            "Saving try18.jpg to try18.jpg\n",
            "1/1 [==============================] - 0s 25ms/step\n",
            "try18.jpg\n",
            "defect\n"
          ]
        }
      ]
    },
    {
      "cell_type": "markdown",
      "source": [
        "### **Visualizing Training and Validation Accuracy**"
      ],
      "metadata": {
        "id": "XTeFsJTxCyjZ"
      }
    },
    {
      "cell_type": "code",
      "source": [
        "# Plot training & validation accuracy values\n",
        "plt.plot(history.history['accuracy'])\n",
        "plt.plot(history.history['val_accuracy'])\n",
        "plt.title('Model Accuracy')\n",
        "plt.xlabel('Epoch')\n",
        "plt.ylabel('Accuracy')\n",
        "plt.legend(['Train', 'Validation'], loc='upper left')\n",
        "plt.show()\n",
        "\n",
        "# Plot training & validation loss values (optional)\n",
        "plt.plot(history.history['loss'])\n",
        "plt.plot(history.history['val_loss'])\n",
        "plt.title('Model Loss')\n",
        "plt.xlabel('Epoch')\n",
        "plt.ylabel('Loss')\n",
        "plt.legend(['Train', 'Validation'], loc='upper left')\n",
        "plt.show()"
      ],
      "metadata": {
        "id": "AzGFbxxK-LD2",
        "colab": {
          "base_uri": "https://localhost:8080/",
          "height": 927
        },
        "outputId": "d1826ae3-801b-4744-ba60-de69bffe9efb"
      },
      "execution_count": null,
      "outputs": [
        {
          "output_type": "display_data",
          "data": {
            "text/plain": [
              "<Figure size 640x480 with 1 Axes>"
            ],
            "image/png": "[encoded data removed]"
          },
          "metadata": {}
        },
        {
          "output_type": "display_data",
          "data": {
            "text/plain": [
              "<Figure size 640x480 with 1 Axes>"
            ],
            "image/png": "[encoded data removed]"
          },
          "metadata": {}
        }
      ]
    },
    {
      "cell_type": "code",
      "source": [
        "# Showing the best epoch with the best training accuracy and the best validation accuracy\n",
        "train_acc = history.history['accuracy']\n",
        "val_acc = history.history['val_accuracy']\n",
        "\n",
        "best_epoch = 1  # Initialize best epoch\n",
        "best_acc = 0.0  # Initialize best accuracy\n",
        "\n",
        "for epoch in range(len(train_acc)):\n",
        "    if train_acc[epoch] > best_acc and val_acc[epoch] > best_acc:\n",
        "        best_acc = max(train_acc[epoch], val_acc[epoch])\n",
        "        best_epoch = epoch + 1\n",
        "\n",
        "print(f\"Best Epoch: {best_epoch}\")\n",
        "print(f\"Best Training Accuracy: {train_acc[best_epoch - 1]}\")\n",
        "print(f\"Best Validation Accuracy: {val_acc[best_epoch - 1]}\")\n"
      ],
      "metadata": {
        "id": "WbvuMmKwXmPi",
        "colab": {
          "base_uri": "https://localhost:8080/"
        },
        "outputId": "72577697-a406-4e7e-d6a1-4efd52180ca3"
      },
      "execution_count": null,
      "outputs": [
        {
          "output_type": "stream",
          "name": "stdout",
          "text": [
            "Best Epoch: 91\n",
            "Best Training Accuracy: 0.9114850163459778\n",
            "Best Validation Accuracy: 0.9122806787490845\n"
          ]
        }
      ]
    },
    {
      "cell_type": "markdown",
      "source": [
        "### **Save Model to H5 and Tflite**"
      ],
      "metadata": {
        "id": "yPA-n92k2VXu"
      }
    },
    {
      "cell_type": "code",
      "source": [
        "# Save the model into H5\n",
        "from tensorflow.keras.models import save_model\n",
        "\n",
        "model.save('GBCG_v2.h5')"
      ],
      "metadata": {
        "id": "V2Yn7_hTbfes",
        "colab": {
          "base_uri": "https://localhost:8080/"
        },
        "outputId": "ea428195-6b0f-43a4-f61a-d8d9344cc616"
      },
      "execution_count": null,
      "outputs": [
        {
          "output_type": "stream",
          "name": "stderr",
          "text": [
            "/usr/local/lib/python3.10/dist-packages/keras/src/engine/training.py:3103: UserWarning: You are saving your model as an HDF5 file via `model.save()`. This file format is considered legacy. We recommend using instead the native Keras format, e.g. `model.save('my_model.keras')`.\n",
            "  saving_api.save_model(\n"
          ]
        }
      ]
    },
    {
      "cell_type": "code",
      "source": [
        "from tensorflow.keras.models import load_model\n",
        "\n",
        "loaded_model = load_model('GBCG_v2.h5')\n",
        "\n",
        "converter = tf.lite.TFLiteConverter.from_keras_model(loaded_model)\n",
        "tflite_model = converter.convert()\n",
        "\n",
        "with open('GBCG_v2.tflite', 'wb') as f:\n",
        "    f.write(tflite_model)"
      ],
      "metadata": {
        "id": "5t8Ca1jDCK4I"
      },
      "execution_count": null,
      "outputs": []
    },
    {
      "cell_type": "code",
      "source": [],
      "metadata": {
        "id": "MqbsYMSVWkc8"
      },
      "execution_count": null,
      "outputs": []
    }
  ]
}